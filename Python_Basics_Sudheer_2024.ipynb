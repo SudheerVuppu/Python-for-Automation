{
 "cells": [
  {
   "cell_type": "markdown",
   "id": "7b401158",
   "metadata": {},
   "source": [
    "# Python_Basics_Sudheer2024_#"
   ]
  },
  {
   "cell_type": "markdown",
   "id": "3b6abdc2",
   "metadata": {},
   "source": [
    "# Program : Python Basics By Sudheer\n",
    "# Version:3.12\n",
    "# Author: Sudheer"
   ]
  },
  {
   "cell_type": "markdown",
   "id": "fc097e9f",
   "metadata": {},
   "source": [
    "###################### Start Code #########################################"
   ]
  },
  {
   "cell_type": "markdown",
   "id": "d126c1f7",
   "metadata": {},
   "source": [
    "## Print Function##"
   ]
  },
  {
   "cell_type": "code",
   "execution_count": 7,
   "id": "58981ff2",
   "metadata": {},
   "outputs": [
    {
     "name": "stdout",
     "output_type": "stream",
     "text": [
      "Hellow World!\n"
     ]
    }
   ],
   "source": [
    "print(\"Hellow World!\")# String"
   ]
  },
  {
   "cell_type": "code",
   "execution_count": 8,
   "id": "3866b722",
   "metadata": {},
   "outputs": [
    {
     "name": "stdout",
     "output_type": "stream",
     "text": [
      "1\n",
      "1.2\n",
      "sudheer\n",
      "a\n"
     ]
    }
   ],
   "source": [
    "print(1) # Int\n",
    "print(1.2) # float\n",
    "print(\"sudheer\") # sting\n",
    "print(\"a\") # String"
   ]
  },
  {
   "cell_type": "markdown",
   "id": "f7ff6e81",
   "metadata": {},
   "source": [
    "# Variables##"
   ]
  },
  {
   "cell_type": "code",
   "execution_count": 10,
   "id": "927136e7",
   "metadata": {},
   "outputs": [],
   "source": [
    "#These are casesensitive\n",
    "#theses variables are not started with special charecters and not started with numbers\n",
    "#underscore can be used as varible either in starting position or ending\n",
    "## Note: Variable should not contain the keywords "
   ]
  },
  {
   "cell_type": "code",
   "execution_count": 11,
   "id": "4524ac8c",
   "metadata": {},
   "outputs": [
    {
     "name": "stdout",
     "output_type": "stream",
     "text": [
      "apple\n",
      "banana\n",
      "Australia\n",
      "tamarind\n"
     ]
    }
   ],
   "source": [
    "ae = \"apple\"\n",
    "ba = \"banana\"\n",
    "_au = \"Australia\"\n",
    "ta_ = \"tamarind\"\n",
    "print(ae)\n",
    "print(ba)\n",
    "print(_au)\n",
    "print(ta_)"
   ]
  },
  {
   "cell_type": "markdown",
   "id": "385dc0a8",
   "metadata": {},
   "source": [
    "# ID Function##"
   ]
  },
  {
   "cell_type": "code",
   "execution_count": 13,
   "id": "810e8e45",
   "metadata": {},
   "outputs": [
    {
     "name": "stdout",
     "output_type": "stream",
     "text": [
      "sun\n"
     ]
    }
   ],
   "source": [
    "# this is used to know the ID of the object variable\n",
    "ay = \"sun\"\n",
    "print(ay)"
   ]
  },
  {
   "cell_type": "code",
   "execution_count": 18,
   "id": "8ea849a3",
   "metadata": {},
   "outputs": [
    {
     "name": "stdout",
     "output_type": "stream",
     "text": [
      "2283122479088\n"
     ]
    }
   ],
   "source": [
    "print(id(ay))\n",
    "#id containg the address of the variable stored and it contains 10 digit unique number this id dosent change"
   ]
  },
  {
   "cell_type": "markdown",
   "id": "d989a32a",
   "metadata": {},
   "source": [
    "# Identity Operators##\n"
   ]
  },
  {
   "cell_type": "code",
   "execution_count": 19,
   "id": "f812d170",
   "metadata": {},
   "outputs": [],
   "source": [
    "# is  / is not \n",
    "# is : if both share same object memory location then is true\n",
    "# is not : if both are not sharing same memory location then this is true"
   ]
  },
  {
   "cell_type": "code",
   "execution_count": 21,
   "id": "f6392248",
   "metadata": {},
   "outputs": [
    {
     "name": "stdout",
     "output_type": "stream",
     "text": [
      "sharing same object memory location\n"
     ]
    }
   ],
   "source": [
    "#is\n",
    "x = 1\n",
    "y = 1\n",
    "if x is y:\n",
    "    print(\"sharing same object memory location\")\n",
    "else: \n",
    "    print(\"not sharing the same location\")"
   ]
  },
  {
   "cell_type": "code",
   "execution_count": 23,
   "id": "4ceb5733",
   "metadata": {},
   "outputs": [
    {
     "name": "stdout",
     "output_type": "stream",
     "text": [
      "not sharing the same location\n"
     ]
    }
   ],
   "source": [
    "#is not\n",
    "x = 1\n",
    "y = 1\n",
    "if x is not y:\n",
    "    print(\"sharing same object memory location\")\n",
    "else: \n",
    "    print(\"not sharing the same location\")"
   ]
  },
  {
   "cell_type": "markdown",
   "id": "41e213b3",
   "metadata": {},
   "source": [
    "# Concatination"
   ]
  },
  {
   "cell_type": "code",
   "execution_count": 24,
   "id": "4fd56f24",
   "metadata": {},
   "outputs": [],
   "source": [
    "# to combain two strings in the print statement we use concatination method"
   ]
  },
  {
   "cell_type": "code",
   "execution_count": 37,
   "id": "f3277356",
   "metadata": {},
   "outputs": [],
   "source": [
    "name = \"Python\"\n",
    "year = 2024"
   ]
  },
  {
   "cell_type": "code",
   "execution_count": 38,
   "id": "7f41cd00",
   "metadata": {},
   "outputs": [
    {
     "name": "stdout",
     "output_type": "stream",
     "text": [
      "Name:  Python Year:  2024\n"
     ]
    }
   ],
   "source": [
    "print(\"Name: \",name , \"Year: \",year)"
   ]
  },
  {
   "cell_type": "code",
   "execution_count": 39,
   "id": "6b4dfd7c",
   "metadata": {},
   "outputs": [
    {
     "name": "stdout",
     "output_type": "stream",
     "text": [
      "Name:Python,Year:2024\n"
     ]
    }
   ],
   "source": [
    "print(f\"Name:{name},Year:{year}\")"
   ]
  },
  {
   "cell_type": "code",
   "execution_count": 41,
   "id": "5f6c8446",
   "metadata": {},
   "outputs": [
    {
     "name": "stdout",
     "output_type": "stream",
     "text": [
      "Name: Python, Year: 2024\n"
     ]
    }
   ],
   "source": [
    "print(\"Name: {}, Year: {}\".format(name,year))"
   ]
  },
  {
   "cell_type": "code",
   "execution_count": 48,
   "id": "800f9fb0",
   "metadata": {},
   "outputs": [
    {
     "ename": "TypeError",
     "evalue": "can only concatenate str (not \"int\") to str",
     "output_type": "error",
     "traceback": [
      "\u001b[1;31m---------------------------------------------------------------------------\u001b[0m",
      "\u001b[1;31mTypeError\u001b[0m                                 Traceback (most recent call last)",
      "Cell \u001b[1;32mIn[48], line 1\u001b[0m\n\u001b[1;32m----> 1\u001b[0m \u001b[38;5;28mprint\u001b[39m(\u001b[38;5;124m\"\u001b[39m\u001b[38;5;124mName: \u001b[39m\u001b[38;5;124m\"\u001b[39m\u001b[38;5;241m+\u001b[39mname , \u001b[38;5;124m\"\u001b[39m\u001b[38;5;124mYear: \u001b[39m\u001b[38;5;124m\"\u001b[39m\u001b[38;5;241m+\u001b[39m year)\n",
      "\u001b[1;31mTypeError\u001b[0m: can only concatenate str (not \"int\") to str"
     ]
    }
   ],
   "source": [
    "print(\"Name: \"+name , \"Year: \"+ year)# this will show that we cannot concatinate the string and Int at the same time"
   ]
  },
  {
   "cell_type": "markdown",
   "id": "83f1c898",
   "metadata": {},
   "source": [
    "# input##"
   ]
  },
  {
   "cell_type": "code",
   "execution_count": 51,
   "id": "58d9df97",
   "metadata": {},
   "outputs": [
    {
     "name": "stdout",
     "output_type": "stream",
     "text": [
      "enter the first number: Hema Sudheer\n",
      "enter the second number: Vuppu\n",
      "Hema SudheerVuppu\n"
     ]
    }
   ],
   "source": [
    "a = input(\"enter the first number: \")\n",
    "b = input(\"enter the second number: \")\n",
    "print(a + b )"
   ]
  },
  {
   "cell_type": "code",
   "execution_count": 52,
   "id": "f2ab4a26",
   "metadata": {},
   "outputs": [
    {
     "name": "stdout",
     "output_type": "stream",
     "text": [
      "enter the first number: 85\n",
      "enter the second number: 64\n",
      "149\n"
     ]
    }
   ],
   "source": [
    "# in the above code you saw that both are combined but not added this is due to that \n",
    "#by default python recognizes the values in the string format so we have to use the Typecasting method\n",
    "#int(),float()\n",
    "a = int(input(\"enter the first number: \"))\n",
    "b = int(input(\"enter the second number: \"))\n",
    "print(a + b )"
   ]
  },
  {
   "cell_type": "markdown",
   "id": "c494a8fe",
   "metadata": {},
   "source": [
    "# Operators##"
   ]
  },
  {
   "cell_type": "markdown",
   "id": "706442f3",
   "metadata": {},
   "source": [
    "# Arithmetic Operators(+,-,*,/,%)"
   ]
  },
  {
   "cell_type": "code",
   "execution_count": 80,
   "id": "ab9c66d1",
   "metadata": {},
   "outputs": [],
   "source": [
    "# to perform basic Mathematical Operation we use the Arithmetic Operators \n",
    "# + , - , * , / , %"
   ]
  },
  {
   "cell_type": "code",
   "execution_count": 55,
   "id": "ac1038cd",
   "metadata": {},
   "outputs": [
    {
     "name": "stdout",
     "output_type": "stream",
     "text": [
      "a+b:139\n",
      "a-b:25\n",
      "a*b:4674\n",
      "a/b:1.4385964912280702\n",
      "a%b:25\n"
     ]
    }
   ],
   "source": [
    "a = 82\n",
    "b = 57\n",
    "\n",
    "print(f\"a+b:{a+b}\")\n",
    "print(f\"a-b:{a-b}\")\n",
    "print(f\"a*b:{a*b}\")\n",
    "print(f\"a/b:{a/b}\")# When you use division operator by default it gives decimal to avoid we have to use floor operator.\n",
    "print(f\"a%b:{a%b}\")"
   ]
  },
  {
   "cell_type": "markdown",
   "id": "10ea7b5f",
   "metadata": {},
   "source": [
    "# Power Operator##"
   ]
  },
  {
   "cell_type": "code",
   "execution_count": 56,
   "id": "a84179f8",
   "metadata": {},
   "outputs": [],
   "source": [
    "# this is nothing but a power identification of an int(**)"
   ]
  },
  {
   "cell_type": "code",
   "execution_count": 62,
   "id": "5c12afcc",
   "metadata": {},
   "outputs": [
    {
     "name": "stdout",
     "output_type": "stream",
     "text": [
      "25\n",
      "32\n"
     ]
    }
   ],
   "source": [
    "a = 5\n",
    "b = 2\n",
    "ans = a ** b\n",
    "ans1 = b**a\n",
    "print(ans)\n",
    "print(ans1)"
   ]
  },
  {
   "cell_type": "markdown",
   "id": "a2b93099",
   "metadata": {},
   "source": [
    "# Floor Operator##"
   ]
  },
  {
   "cell_type": "code",
   "execution_count": 63,
   "id": "11efe3b9",
   "metadata": {},
   "outputs": [
    {
     "name": "stdout",
     "output_type": "stream",
     "text": [
      "2.5\n",
      "2\n"
     ]
    }
   ],
   "source": [
    "# this operation is used to perform to know the nearest integer value when you perform an division operator(//)\n",
    "\n",
    "d = print(5/2)# this is normal division operation\n",
    "f = print(5//2)# this is floor division operation"
   ]
  },
  {
   "cell_type": "markdown",
   "id": "826f25a7",
   "metadata": {},
   "source": [
    "# Assignment Operators ## "
   ]
  },
  {
   "cell_type": "code",
   "execution_count": 64,
   "id": "d31f2440",
   "metadata": {},
   "outputs": [],
   "source": [
    "#this is used to assign the value to the object"
   ]
  },
  {
   "cell_type": "code",
   "execution_count": 66,
   "id": "164cd75f",
   "metadata": {},
   "outputs": [
    {
     "name": "stdout",
     "output_type": "stream",
     "text": [
      "Sudheer\n",
      "28\n",
      "100\n"
     ]
    }
   ],
   "source": [
    "# Variable Assigning\n",
    "name = \"Sudheer\"\n",
    "age = 28\n",
    "price = 100\n",
    "print(name)\n",
    "print(age)\n",
    "print(price)"
   ]
  },
  {
   "cell_type": "code",
   "execution_count": 67,
   "id": "a97e7bb1",
   "metadata": {},
   "outputs": [
    {
     "name": "stdout",
     "output_type": "stream",
     "text": [
      "1\n",
      "1\n",
      "1\n"
     ]
    }
   ],
   "source": [
    "#Multiple Variable assignment\n",
    "a=b=c=1\n",
    "print(a)\n",
    "print(b)\n",
    "print(c)"
   ]
  },
  {
   "cell_type": "code",
   "execution_count": 68,
   "id": "7d59ef76",
   "metadata": {},
   "outputs": [
    {
     "name": "stdout",
     "output_type": "stream",
     "text": [
      "sudheer\n",
      "28\n",
      "100\n"
     ]
    }
   ],
   "source": [
    "#Multi value Assignment\n",
    "a,b,c = \"sudheer\",28 , 100\n",
    "print(a)\n",
    "print(b)\n",
    "print(c)"
   ]
  },
  {
   "cell_type": "markdown",
   "id": "20d91e99",
   "metadata": {},
   "source": [
    "# Compound Operators (Left operand = Left operand + Right operand)"
   ]
  },
  {
   "cell_type": "code",
   "execution_count": 77,
   "id": "b0c09278",
   "metadata": {},
   "outputs": [],
   "source": [
    "# This is used to perform the oprator between two operands and store the value to the left operator\n",
    "# a = a + b (L = L + R)\n",
    "# a = a - b (L = L - R)\n",
    "# a = a / b (L = L / R)\n",
    "# a = a * b (L = L * R)\n",
    "# a = a // b (L = L // R)\n",
    "# a = a ** b (L = L ** R)\n",
    "\n",
    "a = 20\n",
    "b = 5"
   ]
  },
  {
   "cell_type": "code",
   "execution_count": 75,
   "id": "67746984",
   "metadata": {},
   "outputs": [
    {
     "name": "stdout",
     "output_type": "stream",
     "text": [
      "25\n",
      "20\n",
      "4.0\n",
      "20.0\n",
      "4.0\n",
      "1024.0\n"
     ]
    }
   ],
   "source": [
    "# a = a + b (L = L + R)\n",
    "a+=b\n",
    "print(a)\n",
    "# a = a - b (L = L - R)\n",
    "a-=b\n",
    "print(a)\n",
    "# a = a / b (L = L / R)\n",
    "a/=b\n",
    "print(a)\n",
    "# a = a * b (L = L * R)\n",
    "a*=b\n",
    "print(a)\n",
    "# a = a // b (L = L // R)\n",
    "a//=b\n",
    "print(a)\n",
    "# a = a ** b (L = L ** R)\n",
    "a**=b\n",
    "print(a)"
   ]
  },
  {
   "cell_type": "code",
   "execution_count": 78,
   "id": "797ef1b4",
   "metadata": {},
   "outputs": [
    {
     "data": {
      "text/plain": [
       "4"
      ]
     },
     "execution_count": 78,
     "metadata": {},
     "output_type": "execute_result"
    }
   ],
   "source": [
    "a//b\n"
   ]
  },
  {
   "cell_type": "markdown",
   "id": "b7b2a2cd",
   "metadata": {},
   "source": [
    "# Relational Operators##"
   ]
  },
  {
   "cell_type": "code",
   "execution_count": 81,
   "id": "90db7c6d",
   "metadata": {},
   "outputs": [],
   "source": [
    "# this is used to compare two operands \n",
    "# if yes = True\n",
    "#if no  = False"
   ]
  },
  {
   "cell_type": "code",
   "execution_count": 84,
   "id": "394376ea",
   "metadata": {},
   "outputs": [],
   "source": [
    "a = 5\n",
    "b = 10\n",
    "# == , != ,< , <= ,> , >= "
   ]
  },
  {
   "cell_type": "code",
   "execution_count": 86,
   "id": "056ea261",
   "metadata": {},
   "outputs": [
    {
     "data": {
      "text/plain": [
       "False"
      ]
     },
     "execution_count": 86,
     "metadata": {},
     "output_type": "execute_result"
    }
   ],
   "source": [
    "# == \n",
    "# False because both are not equal\n",
    "a == b"
   ]
  },
  {
   "cell_type": "code",
   "execution_count": 87,
   "id": "a070115b",
   "metadata": {},
   "outputs": [
    {
     "data": {
      "text/plain": [
       "True"
      ]
     },
     "execution_count": 87,
     "metadata": {},
     "output_type": "execute_result"
    }
   ],
   "source": [
    "# !=\n",
    "# True because both are not equal\n",
    "a!=b"
   ]
  },
  {
   "cell_type": "code",
   "execution_count": 88,
   "id": "6114ad91",
   "metadata": {},
   "outputs": [
    {
     "data": {
      "text/plain": [
       "True"
      ]
     },
     "execution_count": 88,
     "metadata": {},
     "output_type": "execute_result"
    }
   ],
   "source": [
    "# <\n",
    "# True because a is small than b\n",
    "a<b"
   ]
  },
  {
   "cell_type": "code",
   "execution_count": 89,
   "id": "bdb22bee",
   "metadata": {},
   "outputs": [
    {
     "data": {
      "text/plain": [
       "True"
      ]
     },
     "execution_count": 89,
     "metadata": {},
     "output_type": "execute_result"
    }
   ],
   "source": [
    "# <=\n",
    "# True because a is small than b\n",
    "a<=b"
   ]
  },
  {
   "cell_type": "code",
   "execution_count": 90,
   "id": "5c211226",
   "metadata": {},
   "outputs": [
    {
     "data": {
      "text/plain": [
       "False"
      ]
     },
     "execution_count": 90,
     "metadata": {},
     "output_type": "execute_result"
    }
   ],
   "source": [
    "# >\n",
    "# True because a is not greater than b\n",
    "a>b"
   ]
  },
  {
   "cell_type": "code",
   "execution_count": 91,
   "id": "e489d009",
   "metadata": {},
   "outputs": [
    {
     "data": {
      "text/plain": [
       "False"
      ]
     },
     "execution_count": 91,
     "metadata": {},
     "output_type": "execute_result"
    }
   ],
   "source": [
    "# >=\n",
    "# False because a is not greater than b\n",
    "a>=b"
   ]
  },
  {
   "cell_type": "markdown",
   "id": "f57cddd1",
   "metadata": {},
   "source": [
    "# Logical Operators##"
   ]
  },
  {
   "cell_type": "code",
   "execution_count": 98,
   "id": "1fab4904",
   "metadata": {},
   "outputs": [],
   "source": [
    "#3 types of Gates\n",
    "a = 10\n",
    "b = 5"
   ]
  },
  {
   "cell_type": "code",
   "execution_count": 104,
   "id": "cde5767b",
   "metadata": {},
   "outputs": [
    {
     "name": "stdout",
     "output_type": "stream",
     "text": [
      "the result of or is: True\n"
     ]
    }
   ],
   "source": [
    "#OR ==> In this type of operator atleast one input must be True then the result will be True\n",
    "# T / T = F\n",
    "# F/T = T\n",
    "# T/F = T\n",
    "# F/F = F\n",
    "\n",
    "res = ((a<=b) or (a!=b))\n",
    "print(f\"the result of or is: {res}\")"
   ]
  },
  {
   "cell_type": "code",
   "execution_count": 105,
   "id": "419d46e3",
   "metadata": {},
   "outputs": [
    {
     "name": "stdout",
     "output_type": "stream",
     "text": [
      "the result of or is: False\n"
     ]
    }
   ],
   "source": [
    "# AND ==> In this type of operator Both input must be True then the result will be True\n",
    "# T / T = T\n",
    "# F/T = F\n",
    "# T/F = F\n",
    "# F/F = F\n",
    "res1 = ((a<=b) and (a!=b))\n",
    "print(f\"the result of or is: {res1}\")"
   ]
  },
  {
   "cell_type": "code",
   "execution_count": 106,
   "id": "ea5e304b",
   "metadata": {},
   "outputs": [
    {
     "name": "stdout",
     "output_type": "stream",
     "text": [
      "the result of or is: True\n"
     ]
    }
   ],
   "source": [
    "#NOT ==> In this type of operator it will make the result inverted if False then True & if True then False\n",
    "#  T = F\n",
    "#  F = T\n",
    "res2 = not(((a<=b) and (a!=b)))\n",
    "print(f\"the result of or is: {res2}\")"
   ]
  },
  {
   "cell_type": "markdown",
   "id": "bc1808fe",
   "metadata": {},
   "source": [
    "# Bitwise Operators ##"
   ]
  },
  {
   "cell_type": "code",
   "execution_count": 107,
   "id": "ce266781",
   "metadata": {},
   "outputs": [],
   "source": [
    "# OR (|)\n",
    "# AND (&)\n",
    "# Xor ()"
   ]
  },
  {
   "cell_type": "code",
   "execution_count": 109,
   "id": "f26db3f2",
   "metadata": {},
   "outputs": [
    {
     "name": "stdout",
     "output_type": "stream",
     "text": [
      "14\n"
     ]
    }
   ],
   "source": [
    "# OR ==> this will be false only if both values are false or everything will be true\n",
    "a = 10\n",
    "b = 12\n",
    "ans = a | b\n",
    "print(ans)"
   ]
  },
  {
   "cell_type": "code",
   "execution_count": 110,
   "id": "26d53e54",
   "metadata": {},
   "outputs": [
    {
     "name": "stdout",
     "output_type": "stream",
     "text": [
      "8\n"
     ]
    }
   ],
   "source": [
    "# AND ==> this will be true only if both the values are true\n",
    "ans1 = a & b\n",
    "print(ans1)"
   ]
  },
  {
   "cell_type": "code",
   "execution_count": 111,
   "id": "7e86c817",
   "metadata": {},
   "outputs": [
    {
     "name": "stdout",
     "output_type": "stream",
     "text": [
      "6\n"
     ]
    }
   ],
   "source": [
    "#XOR ==> this will be true only if both the values are having different values\n",
    "ans2 = a^b\n",
    "print(ans2)"
   ]
  },
  {
   "cell_type": "markdown",
   "id": "4b28cb98",
   "metadata": {},
   "source": [
    "# Left Shift Operators ##"
   ]
  },
  {
   "cell_type": "code",
   "execution_count": 113,
   "id": "7ade917e",
   "metadata": {},
   "outputs": [],
   "source": [
    "# This is used to move the binary objects to the left side of the index places\n",
    "# <<\n",
    "# Formula = n*n^i"
   ]
  },
  {
   "cell_type": "code",
   "execution_count": 114,
   "id": "e33e117e",
   "metadata": {},
   "outputs": [
    {
     "name": "stdout",
     "output_type": "stream",
     "text": [
      "40\n"
     ]
    }
   ],
   "source": [
    "a = 5\n",
    "print(a<<3)"
   ]
  },
  {
   "cell_type": "markdown",
   "id": "75568052",
   "metadata": {},
   "source": [
    "# Right Shift Operators ##"
   ]
  },
  {
   "cell_type": "code",
   "execution_count": 116,
   "id": "cf88f06e",
   "metadata": {},
   "outputs": [],
   "source": [
    "# This is used to move the binary objects to the Right side of the index places\n",
    "# >>\n",
    "# Formula = n*n^i"
   ]
  },
  {
   "cell_type": "code",
   "execution_count": 123,
   "id": "7f6d5f84",
   "metadata": {},
   "outputs": [
    {
     "name": "stdout",
     "output_type": "stream",
     "text": [
      "128\n",
      "64\n"
     ]
    }
   ],
   "source": [
    "a = 256\n",
    "print(a>>1)\n",
    "print(a>>2)"
   ]
  },
  {
   "cell_type": "markdown",
   "id": "6a141c44",
   "metadata": {},
   "source": [
    "# Ones Operator##"
   ]
  },
  {
   "cell_type": "code",
   "execution_count": 124,
   "id": "f710ed33",
   "metadata": {},
   "outputs": [],
   "source": [
    "# This operator is used to find the inverted it means all zeros will be ones and ones will be zeros\n",
    "# ~\n",
    "#Formula ~N = -(N+1)"
   ]
  },
  {
   "cell_type": "code",
   "execution_count": 125,
   "id": "a2d68417",
   "metadata": {},
   "outputs": [
    {
     "name": "stdout",
     "output_type": "stream",
     "text": [
      "-26\n"
     ]
    }
   ],
   "source": [
    "a = 25\n",
    "print(~a)"
   ]
  },
  {
   "cell_type": "markdown",
   "id": "dedd22a7",
   "metadata": {},
   "source": [
    "# Decision Making in Python"
   ]
  },
  {
   "cell_type": "code",
   "execution_count": 126,
   "id": "d09989dd",
   "metadata": {},
   "outputs": [],
   "source": [
    "# This is something which you have to be aware of the code or a block or a statement of the code which has to be executed based\n",
    "# on the usecase that is given.\n",
    "# there are many types of decision making out of them lets go with main three\n",
    "#if\n",
    "#if else\n",
    "#nested if-else"
   ]
  },
  {
   "cell_type": "markdown",
   "id": "5f6d359f",
   "metadata": {},
   "source": [
    "# if"
   ]
  },
  {
   "cell_type": "code",
   "execution_count": 130,
   "id": "bbd0e00d",
   "metadata": {},
   "outputs": [
    {
     "name": "stdout",
     "output_type": "stream",
     "text": [
      "Enter the First Number: 25\n",
      "Enter the Second Number: 5\n",
      "5.0\n"
     ]
    }
   ],
   "source": [
    "#if\n",
    "#checking the zero division error\n",
    "n1 = int(input (\"Enter the First Number: \"))\n",
    "n2 = int(input(\"Enter the Second Number: \"))\n",
    "if n1!=0:\n",
    "    print(n1/n2)"
   ]
  },
  {
   "cell_type": "markdown",
   "id": "3d44f545",
   "metadata": {},
   "source": [
    "# if else"
   ]
  },
  {
   "cell_type": "code",
   "execution_count": 149,
   "id": "3c3fa17f",
   "metadata": {},
   "outputs": [
    {
     "name": "stdout",
     "output_type": "stream",
     "text": [
      "Enter the First Number: 52\n",
      "Enter the Second Number: 5\n",
      "10\n"
     ]
    }
   ],
   "source": [
    "#if else\n",
    "n1 = int(input (\"Enter the First Number: \"))\n",
    "n2 = int(input(\"Enter the Second Number: \"))\n",
    "if n1 <= 100:\n",
    "    print(n1/n2)\n",
    "else:\n",
    "    print(\"Please enter a number below 100\")"
   ]
  },
  {
   "cell_type": "markdown",
   "id": "dd73fb39",
   "metadata": {},
   "source": [
    "# nested if else"
   ]
  },
  {
   "cell_type": "code",
   "execution_count": 200,
   "id": "9085c1b8",
   "metadata": {},
   "outputs": [
    {
     "data": {
      "text/plain": [
       "'\\ne=int(input(\"enter the student score\"))\\nif e>=90:\\n    print(\"student got the grade greater than 90 and less than 100\")\\nelif e<=90 and e>=80:\\n    print(\"student got the grade greater than 90 and less than 80\")\\nelif  e<=80 and e>=70:\\n    print(\"student got the grade greater than 80 and less than 70\")\\nelif score<=59:\\n    print(\"you got Failed\")\\nelse:\\n    print(\"please enter the valid score card\")\\n'"
      ]
     },
     "execution_count": 200,
     "metadata": {},
     "output_type": "execute_result"
    }
   ],
   "source": [
    "'''\n",
    "e=int(input(\"enter the student score\"))\n",
    "if e>=90:\n",
    "    print(\"student got the grade greater than 90 and less than 100\")\n",
    "elif e<=90 and e>=80:\n",
    "    print(\"student got the grade greater than 90 and less than 80\")\n",
    "elif  e<=80 and e>=70:\n",
    "    print(\"student got the grade greater than 80 and less than 70\")\n",
    "elif score<=59:\n",
    "    print(\"you got Failed\")\n",
    "else:\n",
    "    print(\"please enter the valid score card\")\n",
    "'''"
   ]
  },
  {
   "cell_type": "code",
   "execution_count": 162,
   "id": "d3a1d6f0",
   "metadata": {},
   "outputs": [
    {
     "name": "stdout",
     "output_type": "stream",
     "text": [
      "Enter the score that you recieved: 60\n",
      "Congrats you achieved 'C+'\n"
     ]
    }
   ],
   "source": [
    "score = int(input(\"Enter the score that you recieved: \"))\n",
    "if score<=100 and score>=90:\n",
    "    print(\"Congratulations you got Distinction!\")\n",
    "elif score <=89 and score >=80:\n",
    "    print(\"Congrats you achieved 'A+'\")\n",
    "elif score <=79 and score >=70:\n",
    "    print(\"Congrats you achieved 'B+'\")\n",
    "elif score <=69 and score >=60:\n",
    "    print(\"Congrats you achieved 'C+'\")\n",
    "elif score<=59:\n",
    "    print(\"you got Failed\")\n",
    "else:\n",
    "    print(\"please enter the valid score card\")"
   ]
  },
  {
   "cell_type": "code",
   "execution_count": 199,
   "id": "96908a99",
   "metadata": {},
   "outputs": [
    {
     "data": {
      "text/plain": [
       "'\\na=[10,20,30,40,50,70]\\nb=int(input(\"enter the number\"))\\nif b in a:\\n    print(\"number is present\")\\nelse:\\n    print(\"number is not present\")\\n'"
      ]
     },
     "execution_count": 199,
     "metadata": {},
     "output_type": "execute_result"
    }
   ],
   "source": [
    "'''\n",
    "a=[10,20,30,40,50,70]\n",
    "b=int(input(\"enter the number\"))\n",
    "if b in a:\n",
    "    print(\"number is present\")\n",
    "else:\n",
    "    print(\"number is not present\")\n",
    "'''"
   ]
  },
  {
   "cell_type": "code",
   "execution_count": 174,
   "id": "69a4f3bb",
   "metadata": {},
   "outputs": [
    {
     "data": {
      "text/plain": [
       "'\\ndef siri(a,b):\\n    c=a+b\\n    print(c)\\n    \\nsiri(10,50)\\n\\n'"
      ]
     },
     "execution_count": 174,
     "metadata": {},
     "output_type": "execute_result"
    }
   ],
   "source": [
    "'''\n",
    "def siri(a,b):\n",
    "    c=a+b\n",
    "    print(c)\n",
    "    \n",
    "siri(10,50)\n",
    "\n",
    "'''\n",
    "    \n",
    "    "
   ]
  },
  {
   "cell_type": "markdown",
   "id": "cb2a6773",
   "metadata": {},
   "source": [
    "#  Strings"
   ]
  },
  {
   "cell_type": "code",
   "execution_count": 201,
   "id": "dfa568f5",
   "metadata": {},
   "outputs": [],
   "source": [
    "# Strings are \"\" or '' \n",
    "# strings are alphabetical models"
   ]
  },
  {
   "cell_type": "code",
   "execution_count": 202,
   "id": "42ef870e",
   "metadata": {},
   "outputs": [],
   "source": [
    "#i want to check if one letter is present in string or not"
   ]
  },
  {
   "cell_type": "code",
   "execution_count": 203,
   "id": "5511d115",
   "metadata": {},
   "outputs": [
    {
     "name": "stdout",
     "output_type": "stream",
     "text": [
      "Sudheer\n"
     ]
    }
   ],
   "source": [
    "sample = \"Sudheer\"\n",
    "print(sample)"
   ]
  },
  {
   "cell_type": "code",
   "execution_count": 205,
   "id": "4c754bb9",
   "metadata": {},
   "outputs": [
    {
     "name": "stdout",
     "output_type": "stream",
     "text": [
      "S\n",
      "u\n",
      "d\n",
      "h\n",
      "e\n",
      "e\n",
      "r\n"
     ]
    }
   ],
   "source": [
    "for i in sample:\n",
    "    print(i)"
   ]
  },
  {
   "cell_type": "code",
   "execution_count": 207,
   "id": "ee354229",
   "metadata": {},
   "outputs": [
    {
     "name": "stdout",
     "output_type": "stream",
     "text": [
      "yes\n"
     ]
    }
   ],
   "source": [
    "if \"S\" in sample:\n",
    "    print(\"yes\")\n",
    "else:\n",
    "    print(\"no\")"
   ]
  },
  {
   "cell_type": "markdown",
   "id": "a9954bd9",
   "metadata": {},
   "source": [
    "# Slicing Strings"
   ]
  },
  {
   "cell_type": "code",
   "execution_count": 208,
   "id": "1f7736bf",
   "metadata": {},
   "outputs": [
    {
     "data": {
      "text/plain": [
       "'t'"
      ]
     },
     "execution_count": 208,
     "metadata": {},
     "output_type": "execute_result"
    }
   ],
   "source": [
    "# slcing through index\n",
    "sli = \"python\"\n",
    "sli[2]"
   ]
  },
  {
   "cell_type": "code",
   "execution_count": 209,
   "id": "376ae8f0",
   "metadata": {},
   "outputs": [
    {
     "ename": "TypeError",
     "evalue": "'str' object does not support item assignment",
     "output_type": "error",
     "traceback": [
      "\u001b[1;31m---------------------------------------------------------------------------\u001b[0m",
      "\u001b[1;31mTypeError\u001b[0m                                 Traceback (most recent call last)",
      "Cell \u001b[1;32mIn[209], line 1\u001b[0m\n\u001b[1;32m----> 1\u001b[0m sli[\u001b[38;5;241m3\u001b[39m]\u001b[38;5;241m=\u001b[39m\u001b[38;5;124m\"\u001b[39m\u001b[38;5;124ms\u001b[39m\u001b[38;5;124m\"\u001b[39m\n",
      "\u001b[1;31mTypeError\u001b[0m: 'str' object does not support item assignment"
     ]
    }
   ],
   "source": [
    "sli[3]=\"s\" # This will show us an error because String is not supported for the item values changes\n",
    "# Strins are Immutable"
   ]
  },
  {
   "cell_type": "markdown",
   "id": "969fd507",
   "metadata": {},
   "source": [
    "# Slicing sting"
   ]
  },
  {
   "cell_type": "code",
   "execution_count": 210,
   "id": "988edab9",
   "metadata": {},
   "outputs": [],
   "source": [
    "sample = \"python\""
   ]
  },
  {
   "cell_type": "code",
   "execution_count": 211,
   "id": "7fb7da73",
   "metadata": {},
   "outputs": [],
   "source": [
    "# here i am slicing the charecters \n",
    "# string = [start_index : End_index]\n",
    "# string  = [n:n-1]\n",
    "#farword indexing and backword indexing two types of indexing are present and always start index with 0 "
   ]
  },
  {
   "cell_type": "code",
   "execution_count": 212,
   "id": "696f70e4",
   "metadata": {},
   "outputs": [
    {
     "data": {
      "text/plain": [
       "'yth'"
      ]
     },
     "execution_count": 212,
     "metadata": {},
     "output_type": "execute_result"
    }
   ],
   "source": [
    "sample[1:4]#if i want to get values of yth # farword indexing "
   ]
  },
  {
   "cell_type": "code",
   "execution_count": 213,
   "id": "c6fadd29",
   "metadata": {},
   "outputs": [
    {
     "data": {
      "text/plain": [
       "'h'"
      ]
     },
     "execution_count": 213,
     "metadata": {},
     "output_type": "execute_result"
    }
   ],
   "source": [
    "sample[-3:-2] # if i want to get the h "
   ]
  },
  {
   "cell_type": "code",
   "execution_count": 214,
   "id": "a9ecfb79",
   "metadata": {},
   "outputs": [
    {
     "data": {
      "text/plain": [
       "'thon'"
      ]
     },
     "execution_count": 214,
     "metadata": {},
     "output_type": "execute_result"
    }
   ],
   "source": [
    "sample[2:]"
   ]
  },
  {
   "cell_type": "code",
   "execution_count": 215,
   "id": "f4bdade5",
   "metadata": {},
   "outputs": [
    {
     "data": {
      "text/plain": [
       "'pyth'"
      ]
     },
     "execution_count": 215,
     "metadata": {},
     "output_type": "execute_result"
    }
   ],
   "source": [
    "sample[:-2]"
   ]
  },
  {
   "cell_type": "markdown",
   "id": "ac440894",
   "metadata": {},
   "source": [
    "# String Methods"
   ]
  },
  {
   "cell_type": "markdown",
   "id": "df893cc5",
   "metadata": {},
   "source": [
    "## Length\n",
    "## Replace\n",
    "## White Spaces\n",
    "## Upper Case\n",
    "## Lower Case\n",
    "## Split"
   ]
  },
  {
   "cell_type": "code",
   "execution_count": 216,
   "id": "eb913b53",
   "metadata": {},
   "outputs": [],
   "source": [
    "str = \"pythonscriptinglanguage\""
   ]
  },
  {
   "cell_type": "code",
   "execution_count": 217,
   "id": "2e989f24",
   "metadata": {},
   "outputs": [
    {
     "name": "stdout",
     "output_type": "stream",
     "text": [
      "23\n"
     ]
    }
   ],
   "source": [
    "# finding length \n",
    "print(len(str))"
   ]
  },
  {
   "cell_type": "code",
   "execution_count": 219,
   "id": "af7e92a1",
   "metadata": {},
   "outputs": [
    {
     "name": "stdout",
     "output_type": "stream",
     "text": [
      "pythonscriptintlantuates\n"
     ]
    }
   ],
   "source": [
    "#Replace\n",
    "str1= \"pythonscriptinglanguages\"\n",
    "print(str1.replace(\"g\",\"t\"))"
   ]
  },
  {
   "cell_type": "code",
   "execution_count": 227,
   "id": "11bc0d58",
   "metadata": {},
   "outputs": [
    {
     "name": "stdout",
     "output_type": "stream",
     "text": [
      "  python scripting languages     ss   \n"
     ]
    }
   ],
   "source": [
    "# WhiteSpaces removing at starting and ending of the charecters\n",
    "str2 = \"  python scripting languages     ss   \"\n",
    "print(str2)"
   ]
  },
  {
   "cell_type": "code",
   "execution_count": 228,
   "id": "1424189f",
   "metadata": {},
   "outputs": [
    {
     "name": "stdout",
     "output_type": "stream",
     "text": [
      "python scripting languages     ss\n"
     ]
    }
   ],
   "source": [
    "print(str2.strip())"
   ]
  },
  {
   "cell_type": "code",
   "execution_count": 229,
   "id": "0a03875e",
   "metadata": {},
   "outputs": [
    {
     "name": "stdout",
     "output_type": "stream",
     "text": [
      "python script languages\n"
     ]
    }
   ],
   "source": [
    "# Upper Case\n",
    "str3= \"python script languages\"\n",
    "print(str3)"
   ]
  },
  {
   "cell_type": "code",
   "execution_count": 230,
   "id": "8996a594",
   "metadata": {},
   "outputs": [
    {
     "name": "stdout",
     "output_type": "stream",
     "text": [
      "PYTHON SCRIPT LANGUAGES\n"
     ]
    }
   ],
   "source": [
    "print(str3.upper())"
   ]
  },
  {
   "cell_type": "code",
   "execution_count": 231,
   "id": "33d0a633",
   "metadata": {},
   "outputs": [
    {
     "name": "stdout",
     "output_type": "stream",
     "text": [
      "python script languages\n"
     ]
    }
   ],
   "source": [
    "print(str3.lower())"
   ]
  },
  {
   "cell_type": "code",
   "execution_count": 240,
   "id": "a4c808cf",
   "metadata": {},
   "outputs": [
    {
     "name": "stdout",
     "output_type": "stream",
     "text": [
      "['python', 'scripting', 'languages', 'all', 'rounded']\n"
     ]
    }
   ],
   "source": [
    "str4 = \"python scripting languages all rounded\" # here i have splited the code using whitespaces between them\n",
    "print(str4.split(\" \"))"
   ]
  },
  {
   "cell_type": "markdown",
   "id": "9e6a0a75",
   "metadata": {},
   "source": [
    "# Lists"
   ]
  },
  {
   "cell_type": "code",
   "execution_count": 241,
   "id": "e0dc68ab",
   "metadata": {},
   "outputs": [],
   "source": [
    "# List are mutable and can store differant types of data \n",
    "#[] Represented by the square brackets"
   ]
  },
  {
   "cell_type": "code",
   "execution_count": 242,
   "id": "3ce24f80",
   "metadata": {},
   "outputs": [
    {
     "name": "stdout",
     "output_type": "stream",
     "text": [
      "[1, 2.2, 'sudheer', 'haibujji']\n"
     ]
    }
   ],
   "source": [
    "n = [1,2.2,\"sudheer\",'haibujji']\n",
    "print(n)"
   ]
  },
  {
   "cell_type": "code",
   "execution_count": 244,
   "id": "50c6a233",
   "metadata": {},
   "outputs": [
    {
     "name": "stdout",
     "output_type": "stream",
     "text": [
      "1\n",
      "2.2\n",
      "sudheer\n",
      "haibujji\n"
     ]
    }
   ],
   "source": [
    "#i want to print each item in the iteration statement \n",
    "for i in n:\n",
    "    print(i)"
   ]
  },
  {
   "cell_type": "code",
   "execution_count": 245,
   "id": "3294bf44",
   "metadata": {},
   "outputs": [
    {
     "name": "stdout",
     "output_type": "stream",
     "text": [
      "yes\n"
     ]
    }
   ],
   "source": [
    "if \"sudheer\" in n:\n",
    "    print(\"yes\")\n",
    "else:\n",
    "    print(\"no\")"
   ]
  },
  {
   "cell_type": "markdown",
   "id": "9ead0576",
   "metadata": {},
   "source": [
    "# List Indexing"
   ]
  },
  {
   "cell_type": "code",
   "execution_count": 246,
   "id": "612e26a1",
   "metadata": {},
   "outputs": [
    {
     "name": "stdout",
     "output_type": "stream",
     "text": [
      "[10, 20, 30, 40, 50, 60, 70]\n"
     ]
    }
   ],
   "source": [
    "n = [10,20,30,40,50,60,70]\n",
    "print(n)"
   ]
  },
  {
   "cell_type": "code",
   "execution_count": 247,
   "id": "23bbd137",
   "metadata": {},
   "outputs": [
    {
     "data": {
      "text/plain": [
       "30"
      ]
     },
     "execution_count": 247,
     "metadata": {},
     "output_type": "execute_result"
    }
   ],
   "source": [
    "n[2]#indexing (0,1,2,3,45,6) farword indexing"
   ]
  },
  {
   "cell_type": "code",
   "execution_count": 248,
   "id": "7856f75b",
   "metadata": {},
   "outputs": [
    {
     "data": {
      "text/plain": [
       "60"
      ]
     },
     "execution_count": 248,
     "metadata": {},
     "output_type": "execute_result"
    }
   ],
   "source": [
    "n[-2]# backward indexing"
   ]
  },
  {
   "cell_type": "code",
   "execution_count": 249,
   "id": "c661b91c",
   "metadata": {},
   "outputs": [
    {
     "data": {
      "text/plain": [
       "[20, 30, 40]"
      ]
     },
     "execution_count": 249,
     "metadata": {},
     "output_type": "execute_result"
    }
   ],
   "source": [
    "n[1:4]#range from start and ending [n,(n-1)]---[start_index:End index]"
   ]
  },
  {
   "cell_type": "code",
   "execution_count": 250,
   "id": "db5fe4b6",
   "metadata": {},
   "outputs": [
    {
     "data": {
      "text/plain": [
       "[10, 20, 30, 40, 50]"
      ]
     },
     "execution_count": 250,
     "metadata": {},
     "output_type": "execute_result"
    }
   ],
   "source": [
    "n[:5]# start to till 4"
   ]
  },
  {
   "cell_type": "code",
   "execution_count": 251,
   "id": "69241b53",
   "metadata": {},
   "outputs": [
    {
     "data": {
      "text/plain": [
       "[30, 40, 50, 60, 70]"
      ]
     },
     "execution_count": 251,
     "metadata": {},
     "output_type": "execute_result"
    }
   ],
   "source": [
    "n[2:]# start from 2 and end of all items"
   ]
  },
  {
   "cell_type": "code",
   "execution_count": 253,
   "id": "57bd81f7",
   "metadata": {},
   "outputs": [
    {
     "name": "stdout",
     "output_type": "stream",
     "text": [
      "[10, 60, 70]\n"
     ]
    }
   ],
   "source": [
    "#removing items in list\n",
    "n[1:4] = []\n",
    "print(n)"
   ]
  },
  {
   "cell_type": "code",
   "execution_count": 254,
   "id": "cc3e8691",
   "metadata": {},
   "outputs": [
    {
     "name": "stdout",
     "output_type": "stream",
     "text": [
      "[10, 60, 70]\n"
     ]
    }
   ],
   "source": [
    "n_copy=n[:] # copying the list of above\n",
    "print(n_copy)"
   ]
  },
  {
   "cell_type": "code",
   "execution_count": 256,
   "id": "d26ad0a7",
   "metadata": {},
   "outputs": [
    {
     "name": "stdout",
     "output_type": "stream",
     "text": [
      "[]\n"
     ]
    }
   ],
   "source": [
    "n_copy=[]# removing the copy list \n",
    "print(n_copy)"
   ]
  },
  {
   "cell_type": "markdown",
   "id": "67107219",
   "metadata": {},
   "source": [
    "# lsit Methods"
   ]
  },
  {
   "cell_type": "code",
   "execution_count": 257,
   "id": "7e5405cd",
   "metadata": {},
   "outputs": [
    {
     "data": {
      "text/plain": [
       "6"
      ]
     },
     "execution_count": 257,
     "metadata": {},
     "output_type": "execute_result"
    }
   ],
   "source": [
    "# Length of list\n",
    "a = [1,2,3,50,60,'sudheer']\n",
    "len(a)"
   ]
  },
  {
   "cell_type": "code",
   "execution_count": 258,
   "id": "224f28ca",
   "metadata": {},
   "outputs": [
    {
     "name": "stdout",
     "output_type": "stream",
     "text": [
      "[1, 2, 3, 50, 60, 'sudheer', 10, 20, 3, 0, 450, 5, 1]\n"
     ]
    }
   ],
   "source": [
    "b = [10,20,3,0,450,5,1]# concatination of two list\n",
    "c = a+b\n",
    "print(c)"
   ]
  },
  {
   "cell_type": "code",
   "execution_count": 267,
   "id": "b220f782",
   "metadata": {},
   "outputs": [
    {
     "name": "stdout",
     "output_type": "stream",
     "text": [
      "[]\n"
     ]
    }
   ],
   "source": [
    "print(c)"
   ]
  },
  {
   "cell_type": "code",
   "execution_count": 264,
   "id": "877005a3",
   "metadata": {},
   "outputs": [
    {
     "name": "stdout",
     "output_type": "stream",
     "text": [
      "[1, 2, 3, 50, 60, 'sudheer', 10, 20, 3, 0, 450, 5, 1]\n"
     ]
    }
   ],
   "source": [
    "d=c.copy()\n",
    "print(d)"
   ]
  },
  {
   "cell_type": "code",
   "execution_count": 265,
   "id": "ffa80880",
   "metadata": {},
   "outputs": [
    {
     "name": "stdout",
     "output_type": "stream",
     "text": [
      "[]\n"
     ]
    }
   ],
   "source": [
    "d.clear()\n",
    "print(d)"
   ]
  },
  {
   "cell_type": "code",
   "execution_count": 268,
   "id": "c7827d3b",
   "metadata": {},
   "outputs": [
    {
     "ename": "NameError",
     "evalue": "name 'C' is not defined",
     "output_type": "error",
     "traceback": [
      "\u001b[1;31m---------------------------------------------------------------------------\u001b[0m",
      "\u001b[1;31mNameError\u001b[0m                                 Traceback (most recent call last)",
      "Cell \u001b[1;32mIn[268], line 2\u001b[0m\n\u001b[0;32m      1\u001b[0m c \u001b[38;5;241m=\u001b[39m []\n\u001b[1;32m----> 2\u001b[0m \u001b[38;5;28mprint\u001b[39m(C)\n",
      "\u001b[1;31mNameError\u001b[0m: name 'C' is not defined"
     ]
    }
   ],
   "source": [
    "c = []\n",
    "print(C)"
   ]
  },
  {
   "cell_type": "markdown",
   "id": "4f07cb6d",
   "metadata": {},
   "source": [
    "# Tuple"
   ]
  },
  {
   "cell_type": "code",
   "execution_count": 269,
   "id": "6c5cef42",
   "metadata": {},
   "outputs": [],
   "source": [
    "# this is immutable and () \n",
    "# once it is declared it cannot be changed or modified \n",
    "# it can store differant data types and duplicates as well"
   ]
  },
  {
   "cell_type": "code",
   "execution_count": 270,
   "id": "4cca71c0",
   "metadata": {},
   "outputs": [
    {
     "name": "stdout",
     "output_type": "stream",
     "text": [
      "(10, 20, 3, 30, 'sudheer', 5.2)\n"
     ]
    }
   ],
   "source": [
    "a = (10,20,3,30,'sudheer',5.2)\n",
    "print(a)"
   ]
  },
  {
   "cell_type": "code",
   "execution_count": 271,
   "id": "211bfee6",
   "metadata": {},
   "outputs": [
    {
     "name": "stdout",
     "output_type": "stream",
     "text": [
      "Yes\n"
     ]
    }
   ],
   "source": [
    "# finding if the elemnet or item is present in tuple or not\n",
    "if 30 in a:\n",
    "    print(\"Yes\")\n",
    "else:\n",
    "    print(\"No\")"
   ]
  },
  {
   "cell_type": "code",
   "execution_count": 272,
   "id": "8c283712",
   "metadata": {},
   "outputs": [
    {
     "name": "stdout",
     "output_type": "stream",
     "text": [
      "10\n",
      "20\n",
      "3\n",
      "30\n",
      "sudheer\n",
      "5.2\n"
     ]
    }
   ],
   "source": [
    "# iterating of the items in the tuple\n",
    "for i in a:\n",
    "    print(i)"
   ]
  },
  {
   "cell_type": "markdown",
   "id": "90f63982",
   "metadata": {},
   "source": [
    "# Methods of Tuple"
   ]
  },
  {
   "cell_type": "markdown",
   "id": "19ca9c48",
   "metadata": {},
   "source": [
    "# in tuple\n",
    "# we cannot \n",
    "# Modify \n",
    "# update \n",
    "# del item"
   ]
  },
  {
   "cell_type": "code",
   "execution_count": 274,
   "id": "4e2e4944",
   "metadata": {},
   "outputs": [
    {
     "name": "stdout",
     "output_type": "stream",
     "text": [
      "(10, 20, 3, 'sudheer')\n"
     ]
    }
   ],
   "source": [
    "# lenght\n",
    "t = (10,20,3,'sudheer')\n",
    "print(t)# tis can hold multiple data types oin it and duplicates as well"
   ]
  },
  {
   "cell_type": "code",
   "execution_count": 275,
   "id": "423ad623",
   "metadata": {},
   "outputs": [
    {
     "data": {
      "text/plain": [
       "4"
      ]
     },
     "execution_count": 275,
     "metadata": {},
     "output_type": "execute_result"
    }
   ],
   "source": [
    "len(t)"
   ]
  },
  {
   "cell_type": "code",
   "execution_count": 276,
   "id": "4050baab",
   "metadata": {},
   "outputs": [
    {
     "data": {
      "text/plain": [
       "1"
      ]
     },
     "execution_count": 276,
     "metadata": {},
     "output_type": "execute_result"
    }
   ],
   "source": [
    "t.count(10)"
   ]
  },
  {
   "cell_type": "code",
   "execution_count": 277,
   "id": "d2b7c40a",
   "metadata": {},
   "outputs": [
    {
     "ename": "SyntaxError",
     "evalue": "cannot delete function call (1062798030.py, line 1)",
     "output_type": "error",
     "traceback": [
      "\u001b[1;36m  Cell \u001b[1;32mIn[277], line 1\u001b[1;36m\u001b[0m\n\u001b[1;33m    del t(1)\u001b[0m\n\u001b[1;37m        ^\u001b[0m\n\u001b[1;31mSyntaxError\u001b[0m\u001b[1;31m:\u001b[0m cannot delete function call\n"
     ]
    }
   ],
   "source": [
    "del t(1)# it cannot delet item in tuple"
   ]
  },
  {
   "cell_type": "code",
   "execution_count": 279,
   "id": "16fa92aa",
   "metadata": {},
   "outputs": [
    {
     "ename": "NameError",
     "evalue": "name 't' is not defined",
     "output_type": "error",
     "traceback": [
      "\u001b[1;31m---------------------------------------------------------------------------\u001b[0m",
      "\u001b[1;31mNameError\u001b[0m                                 Traceback (most recent call last)",
      "Cell \u001b[1;32mIn[279], line 1\u001b[0m\n\u001b[1;32m----> 1\u001b[0m \u001b[38;5;28;01mdel\u001b[39;00m t\n",
      "\u001b[1;31mNameError\u001b[0m: name 't' is not defined"
     ]
    }
   ],
   "source": [
    "del t # this show that t is deleted"
   ]
  },
  {
   "cell_type": "code",
   "execution_count": 280,
   "id": "dc7841bc",
   "metadata": {},
   "outputs": [
    {
     "ename": "NameError",
     "evalue": "name 't' is not defined",
     "output_type": "error",
     "traceback": [
      "\u001b[1;31m---------------------------------------------------------------------------\u001b[0m",
      "\u001b[1;31mNameError\u001b[0m                                 Traceback (most recent call last)",
      "Cell \u001b[1;32mIn[280], line 1\u001b[0m\n\u001b[1;32m----> 1\u001b[0m \u001b[38;5;28mprint\u001b[39m(t)\n",
      "\u001b[1;31mNameError\u001b[0m: name 't' is not defined"
     ]
    }
   ],
   "source": [
    "print(t)# t is not available to show as it was deleted"
   ]
  },
  {
   "cell_type": "markdown",
   "id": "170cd761",
   "metadata": {},
   "source": [
    "# Dictionary"
   ]
  },
  {
   "cell_type": "code",
   "execution_count": 281,
   "id": "4f34cbaa",
   "metadata": {},
   "outputs": [],
   "source": [
    "# this  is a key and value pair and {} this the format to write\n",
    "# { key: Values}"
   ]
  },
  {
   "cell_type": "code",
   "execution_count": 282,
   "id": "f3731dc8",
   "metadata": {},
   "outputs": [
    {
     "name": "stdout",
     "output_type": "stream",
     "text": [
      "{'name': 'sudheer', 'age': 28, 'salary': 20.35}\n"
     ]
    }
   ],
   "source": [
    "a = { \"name\": \"sudheer\", \"age\": 28, \"salary\":20.35}\n",
    "print(a)"
   ]
  },
  {
   "cell_type": "code",
   "execution_count": 283,
   "id": "0936a252",
   "metadata": {},
   "outputs": [
    {
     "data": {
      "text/plain": [
       "dict_keys(['name', 'age', 'salary'])"
      ]
     },
     "execution_count": 283,
     "metadata": {},
     "output_type": "execute_result"
    }
   ],
   "source": [
    "a.keys()"
   ]
  },
  {
   "cell_type": "code",
   "execution_count": 284,
   "id": "7aa94517",
   "metadata": {},
   "outputs": [
    {
     "data": {
      "text/plain": [
       "dict_values(['sudheer', 28, 20.35])"
      ]
     },
     "execution_count": 284,
     "metadata": {},
     "output_type": "execute_result"
    }
   ],
   "source": [
    "a.values()"
   ]
  },
  {
   "cell_type": "code",
   "execution_count": 286,
   "id": "a4d2dddb",
   "metadata": {},
   "outputs": [],
   "source": [
    "a[\"age\"] = 29"
   ]
  },
  {
   "cell_type": "code",
   "execution_count": 287,
   "id": "57167fec",
   "metadata": {},
   "outputs": [
    {
     "name": "stdout",
     "output_type": "stream",
     "text": [
      "{'name': 'sudheer', 'age': 29, 'salary': 20.35}\n"
     ]
    }
   ],
   "source": [
    "print(a)"
   ]
  },
  {
   "cell_type": "code",
   "execution_count": 294,
   "id": "5045be0e",
   "metadata": {},
   "outputs": [],
   "source": [
    "a[\"mobile\"] = 98855"
   ]
  },
  {
   "cell_type": "code",
   "execution_count": 295,
   "id": "b4d8a46e",
   "metadata": {},
   "outputs": [
    {
     "name": "stdout",
     "output_type": "stream",
     "text": [
      "{'name': 'sudheer', 'age': 29, 'salary': 20.35, 'mobile': 98855}\n"
     ]
    }
   ],
   "source": [
    "print(a)"
   ]
  },
  {
   "cell_type": "code",
   "execution_count": 297,
   "id": "c7157c58",
   "metadata": {},
   "outputs": [
    {
     "data": {
      "text/plain": [
       "'sudheer'"
      ]
     },
     "execution_count": 297,
     "metadata": {},
     "output_type": "execute_result"
    }
   ],
   "source": [
    "a['name']"
   ]
  },
  {
   "cell_type": "code",
   "execution_count": 298,
   "id": "298a0a8f",
   "metadata": {},
   "outputs": [
    {
     "name": "stdout",
     "output_type": "stream",
     "text": [
      "{'name': 'sudheer', 'age': 29, 'salary': 20.35, 'mobile': 98855}\n"
     ]
    }
   ],
   "source": [
    "print(a)"
   ]
  },
  {
   "cell_type": "code",
   "execution_count": 299,
   "id": "0313f8b7",
   "metadata": {},
   "outputs": [
    {
     "data": {
      "text/plain": [
       "{'name': 'sudheer', 'age': 29, 'salary': 20.35, 'mobile': 98855}"
      ]
     },
     "execution_count": 299,
     "metadata": {},
     "output_type": "execute_result"
    }
   ],
   "source": [
    "b = a.copy()# to make a copy of the a dict\n",
    "b"
   ]
  },
  {
   "cell_type": "code",
   "execution_count": 300,
   "id": "9eb033fe",
   "metadata": {},
   "outputs": [
    {
     "name": "stdout",
     "output_type": "stream",
     "text": [
      "{'name': 'sudheer', 'age': 29, 'salary': 20.35, 'mobile': 98855}\n",
      "{'name': 'sudheer', 'age': 29, 'salary': 20.35, 'mobile': 98855}\n"
     ]
    }
   ],
   "source": [
    "print(a)\n",
    "print(b)"
   ]
  },
  {
   "cell_type": "code",
   "execution_count": 301,
   "id": "c4a03351",
   "metadata": {},
   "outputs": [
    {
     "data": {
      "text/plain": [
       "4"
      ]
     },
     "execution_count": 301,
     "metadata": {},
     "output_type": "execute_result"
    }
   ],
   "source": [
    "len(b)# finding length of dict"
   ]
  },
  {
   "cell_type": "code",
   "execution_count": 302,
   "id": "007bcaa9",
   "metadata": {},
   "outputs": [
    {
     "name": "stdout",
     "output_type": "stream",
     "text": [
      "{'name': 'sudheer', 'age': 29, 'salary': 20.35}\n"
     ]
    }
   ],
   "source": [
    "del b[\"mobile\"]\n",
    "print(b)"
   ]
  },
  {
   "cell_type": "code",
   "execution_count": 304,
   "id": "6cda1a66",
   "metadata": {},
   "outputs": [
    {
     "name": "stdout",
     "output_type": "stream",
     "text": [
      "{}\n"
     ]
    }
   ],
   "source": [
    "b.clear()\n",
    "print(b)"
   ]
  },
  {
   "cell_type": "code",
   "execution_count": 306,
   "id": "f4315653",
   "metadata": {},
   "outputs": [
    {
     "ename": "NameError",
     "evalue": "name 'b' is not defined",
     "output_type": "error",
     "traceback": [
      "\u001b[1;31m---------------------------------------------------------------------------\u001b[0m",
      "\u001b[1;31mNameError\u001b[0m                                 Traceback (most recent call last)",
      "Cell \u001b[1;32mIn[306], line 1\u001b[0m\n\u001b[1;32m----> 1\u001b[0m \u001b[38;5;28;01mdel\u001b[39;00m b\n\u001b[0;32m      2\u001b[0m b\n",
      "\u001b[1;31mNameError\u001b[0m: name 'b' is not defined"
     ]
    }
   ],
   "source": [
    "del b # b is deleted\n",
    "b"
   ]
  },
  {
   "cell_type": "markdown",
   "id": "d339182f",
   "metadata": {},
   "source": [
    "# Sets"
   ]
  },
  {
   "cell_type": "code",
   "execution_count": 307,
   "id": "19d975cd",
   "metadata": {},
   "outputs": [],
   "source": [
    "# these are un-orderd\n",
    "# these are represented by {}\n",
    "# these do not accept duplicates and not indexed \n",
    "# these cannot be modified \n",
    "# these can store multiple data types in it"
   ]
  },
  {
   "cell_type": "code",
   "execution_count": 308,
   "id": "f31d42b1",
   "metadata": {},
   "outputs": [
    {
     "name": "stdout",
     "output_type": "stream",
     "text": [
      "{'hema', 1, 2, 2.2, 'sudheer', 30}\n"
     ]
    }
   ],
   "source": [
    "a = {1,2,30,2.2,'sudheer','hema'}\n",
    "print(a)"
   ]
  },
  {
   "cell_type": "code",
   "execution_count": 310,
   "id": "1be0d36f",
   "metadata": {},
   "outputs": [
    {
     "name": "stdout",
     "output_type": "stream",
     "text": [
      "{1, 2, 2.2, 'd', 30, 'hema', 'sudheer', 'u', 's'}\n"
     ]
    }
   ],
   "source": [
    "a.update('sud')\n",
    "print(a)"
   ]
  },
  {
   "cell_type": "code",
   "execution_count": 311,
   "id": "92866d5b",
   "metadata": {},
   "outputs": [
    {
     "data": {
      "text/plain": [
       "{1, 2, 2.2, 30, 'd', 'hema', 's', 'sudheer', 'u'}"
      ]
     },
     "execution_count": 311,
     "metadata": {},
     "output_type": "execute_result"
    }
   ],
   "source": [
    "a"
   ]
  },
  {
   "cell_type": "code",
   "execution_count": 313,
   "id": "3e74c166",
   "metadata": {},
   "outputs": [
    {
     "data": {
      "text/plain": [
       "1"
      ]
     },
     "execution_count": 313,
     "metadata": {},
     "output_type": "execute_result"
    }
   ],
   "source": [
    "a.pop()"
   ]
  },
  {
   "cell_type": "code",
   "execution_count": 314,
   "id": "63a72ca1",
   "metadata": {},
   "outputs": [
    {
     "data": {
      "text/plain": [
       "{2, 2.2, 30, 'd', 'hema', 's', 'sudheer', 'u'}"
      ]
     },
     "execution_count": 314,
     "metadata": {},
     "output_type": "execute_result"
    }
   ],
   "source": [
    "a"
   ]
  },
  {
   "cell_type": "code",
   "execution_count": 315,
   "id": "831e47c8",
   "metadata": {},
   "outputs": [
    {
     "name": "stdout",
     "output_type": "stream",
     "text": [
      "2\n",
      "2.2\n",
      "d\n",
      "30\n",
      "hema\n",
      "sudheer\n",
      "u\n",
      "s\n"
     ]
    }
   ],
   "source": [
    "for x in a:\n",
    "    print(x)"
   ]
  },
  {
   "cell_type": "markdown",
   "id": "f12de3e6",
   "metadata": {},
   "source": [
    "# methods"
   ]
  },
  {
   "cell_type": "code",
   "execution_count": 317,
   "id": "c531255a",
   "metadata": {},
   "outputs": [
    {
     "data": {
      "text/plain": [
       "8"
      ]
     },
     "execution_count": 317,
     "metadata": {},
     "output_type": "execute_result"
    }
   ],
   "source": [
    "len(a)"
   ]
  },
  {
   "cell_type": "code",
   "execution_count": 318,
   "id": "c1c8fc6d",
   "metadata": {},
   "outputs": [
    {
     "data": {
      "text/plain": [
       "{2, 2.2, 30, 'd', 'hema', 's', 'sudheer', 'u'}"
      ]
     },
     "execution_count": 318,
     "metadata": {},
     "output_type": "execute_result"
    }
   ],
   "source": [
    "b = a.copy()\n",
    "b"
   ]
  },
  {
   "cell_type": "code",
   "execution_count": 319,
   "id": "97c05c3d",
   "metadata": {},
   "outputs": [],
   "source": [
    "# union\n",
    "# intersection\n",
    "# subset\n",
    "# superset\n",
    "# disjoint"
   ]
  },
  {
   "cell_type": "code",
   "execution_count": 320,
   "id": "8d82047e",
   "metadata": {},
   "outputs": [
    {
     "name": "stdout",
     "output_type": "stream",
     "text": [
      "{2, 2.2, 'd', 'hema', 'sudheer', 'u', 's', 30}\n",
      "{80, 20, 10, 60, 'ksit'}\n"
     ]
    }
   ],
   "source": [
    "c = {10,20,'ksit',60,80}\n",
    "print(b)\n",
    "print(c)"
   ]
  },
  {
   "cell_type": "code",
   "execution_count": 321,
   "id": "4f462c21",
   "metadata": {},
   "outputs": [
    {
     "data": {
      "text/plain": [
       "{10, 2, 2.2, 20, 30, 60, 80, 'd', 'hema', 'ksit', 's', 'sudheer', 'u'}"
      ]
     },
     "execution_count": 321,
     "metadata": {},
     "output_type": "execute_result"
    }
   ],
   "source": [
    "d = b.union(c)\n",
    "d"
   ]
  },
  {
   "cell_type": "code",
   "execution_count": 324,
   "id": "dcbec443",
   "metadata": {},
   "outputs": [
    {
     "data": {
      "text/plain": [
       "set()"
      ]
     },
     "execution_count": 324,
     "metadata": {},
     "output_type": "execute_result"
    }
   ],
   "source": [
    "e = b.intersection(c)\n",
    "e"
   ]
  },
  {
   "cell_type": "code",
   "execution_count": 325,
   "id": "a110da8e",
   "metadata": {},
   "outputs": [
    {
     "data": {
      "text/plain": [
       "set()"
      ]
     },
     "execution_count": 325,
     "metadata": {},
     "output_type": "execute_result"
    }
   ],
   "source": [
    "e"
   ]
  },
  {
   "cell_type": "code",
   "execution_count": 327,
   "id": "d6c8214a",
   "metadata": {},
   "outputs": [
    {
     "data": {
      "text/plain": [
       "False"
      ]
     },
     "execution_count": 327,
     "metadata": {},
     "output_type": "execute_result"
    }
   ],
   "source": [
    "f = c.issuperset(b)\n",
    "f"
   ]
  },
  {
   "cell_type": "markdown",
   "id": "7c42ff1f",
   "metadata": {},
   "source": [
    "# Loops"
   ]
  },
  {
   "cell_type": "code",
   "execution_count": 328,
   "id": "52658e8e",
   "metadata": {},
   "outputs": [],
   "source": [
    "# to do a task repeatadly we use loops \n",
    "# two types of loops they are\n",
    "# for loop\n",
    "# while loop"
   ]
  },
  {
   "cell_type": "markdown",
   "id": "acc25e68",
   "metadata": {},
   "source": [
    "# for loop"
   ]
  },
  {
   "cell_type": "code",
   "execution_count": 329,
   "id": "b9bda544",
   "metadata": {},
   "outputs": [],
   "source": [
    "# this is used to iterate any kind of series like string, list , dictionary and sets"
   ]
  },
  {
   "cell_type": "code",
   "execution_count": 331,
   "id": "ed7c0c7e",
   "metadata": {},
   "outputs": [
    {
     "name": "stdout",
     "output_type": "stream",
     "text": [
      "p\n",
      "y\n",
      "t\n",
      "h\n",
      "o\n",
      "n\n"
     ]
    }
   ],
   "source": [
    "a = \"python\"\n",
    "for i in a:\n",
    "    print(i)"
   ]
  },
  {
   "cell_type": "code",
   "execution_count": 332,
   "id": "e5ede1e2",
   "metadata": {},
   "outputs": [
    {
     "name": "stdout",
     "output_type": "stream",
     "text": [
      "10\n",
      "20\n",
      "30\n",
      "4\n",
      "2.66\n",
      "36\n"
     ]
    }
   ],
   "source": [
    "b = [10,20,30,4,2.66,36]\n",
    "for i in b:\n",
    "    print(i)"
   ]
  },
  {
   "cell_type": "code",
   "execution_count": 333,
   "id": "fd862309",
   "metadata": {},
   "outputs": [
    {
     "name": "stdout",
     "output_type": "stream",
     "text": [
      "2.66\n",
      "4\n",
      "36\n",
      "20\n",
      "10\n",
      "30\n"
     ]
    }
   ],
   "source": [
    "c = {10,20,30,4,2.66,36}\n",
    "for i in c:\n",
    "    print(i)"
   ]
  },
  {
   "cell_type": "code",
   "execution_count": 334,
   "id": "75db2339",
   "metadata": {},
   "outputs": [
    {
     "name": "stdout",
     "output_type": "stream",
     "text": [
      "name\n",
      "age\n",
      "adress\n"
     ]
    }
   ],
   "source": [
    "d={\"name\":\"sudheer\",\"age\": 28,\"adress\": \"king\"}\n",
    "for i in d:\n",
    "    print(i)"
   ]
  },
  {
   "cell_type": "code",
   "execution_count": 335,
   "id": "9823d0cf",
   "metadata": {},
   "outputs": [
    {
     "name": "stdout",
     "output_type": "stream",
     "text": [
      "name sudheer\n",
      "age 28\n",
      "adress king\n"
     ]
    }
   ],
   "source": [
    "for x,y in d.items():\n",
    "    print(x,y)"
   ]
  },
  {
   "cell_type": "code",
   "execution_count": 336,
   "id": "840610ad",
   "metadata": {},
   "outputs": [
    {
     "name": "stdout",
     "output_type": "stream",
     "text": [
      "name\n",
      "age\n",
      "adress\n"
     ]
    }
   ],
   "source": [
    "for x in d.keys():\n",
    "    print(x)"
   ]
  },
  {
   "cell_type": "code",
   "execution_count": 337,
   "id": "cd95d641",
   "metadata": {},
   "outputs": [
    {
     "name": "stdout",
     "output_type": "stream",
     "text": [
      "sudheer\n",
      "28\n",
      "king\n"
     ]
    }
   ],
   "source": [
    "for x in d.values():\n",
    "    print(x)"
   ]
  },
  {
   "cell_type": "markdown",
   "id": "97c4aad1",
   "metadata": {},
   "source": [
    "# Range Function"
   ]
  },
  {
   "cell_type": "code",
   "execution_count": 338,
   "id": "beca380b",
   "metadata": {},
   "outputs": [
    {
     "name": "stdout",
     "output_type": "stream",
     "text": [
      "range(10, 30, 3)\n"
     ]
    }
   ],
   "source": [
    "# range is some thing which you want to get random data\n",
    "a = range(10,30,3)\n",
    "print(a)"
   ]
  },
  {
   "cell_type": "code",
   "execution_count": 346,
   "id": "30c45461",
   "metadata": {},
   "outputs": [
    {
     "name": "stdout",
     "output_type": "stream",
     "text": [
      "[30]\n",
      "[36]\n",
      "[42]\n",
      "[48]\n",
      "[54]\n",
      "[60]\n",
      "[66]\n",
      "[72]\n",
      "[78]\n",
      "[84]\n"
     ]
    }
   ],
   "source": [
    "for i in range(30,90,6):\n",
    "    print([i])"
   ]
  },
  {
   "cell_type": "code",
   "execution_count": 363,
   "id": "bfb01c67",
   "metadata": {},
   "outputs": [
    {
     "name": "stdout",
     "output_type": "stream",
     "text": [
      "[88, 57, 61, 22, 14, 96, 63, 6, 51, 37]\n"
     ]
    }
   ],
   "source": [
    "import random\n",
    "\n",
    "num = 10\n",
    "start = 1\n",
    "end = 100\n",
    "a = random.sample(range(start, end + 1), num)\n",
    "print(a)\n"
   ]
  },
  {
   "cell_type": "code",
   "execution_count": 364,
   "id": "4a473e21",
   "metadata": {},
   "outputs": [
    {
     "data": {
      "text/plain": [
       "[88, 57, 61, 22, 14, 96, 63, 6, 51, 37]"
      ]
     },
     "execution_count": 364,
     "metadata": {},
     "output_type": "execute_result"
    }
   ],
   "source": [
    "a"
   ]
  },
  {
   "cell_type": "code",
   "execution_count": 380,
   "id": "c8d8712d",
   "metadata": {},
   "outputs": [
    {
     "name": "stdout",
     "output_type": "stream",
     "text": [
      "[26, 56, 74, 53, 68, 65, 62, 98, 50, 59, 92, 83, 86, 35, 80, 95, 41, 47, 20, 29]\n"
     ]
    }
   ],
   "source": [
    "import random\n",
    "a = random.sample(range(20,100,3),20)\n",
    "print(a)"
   ]
  },
  {
   "cell_type": "code",
   "execution_count": 368,
   "id": "e97662eb",
   "metadata": {},
   "outputs": [
    {
     "data": {
      "text/plain": [
       "[26, 20, 68, 56, 62, 38, 80, 32, 44, 74]"
      ]
     },
     "execution_count": 368,
     "metadata": {},
     "output_type": "execute_result"
    }
   ],
   "source": [
    "a"
   ]
  },
  {
   "cell_type": "code",
   "execution_count": 382,
   "id": "5885ee3a",
   "metadata": {},
   "outputs": [
    {
     "name": "stdout",
     "output_type": "stream",
     "text": [
      "[82, 36, 24, 32, 18, 60, 78, 70, 58, 46]\n"
     ]
    }
   ],
   "source": [
    "import random\n",
    "r = random.sample(range(10,90,2),10)\n",
    "print(r)"
   ]
  },
  {
   "cell_type": "code",
   "execution_count": 384,
   "id": "324ea936",
   "metadata": {},
   "outputs": [
    {
     "name": "stdout",
     "output_type": "stream",
     "text": [
      "82\n",
      "36\n",
      "24\n",
      "32\n",
      "18\n",
      "60\n",
      "78\n",
      "70\n",
      "58\n",
      "46\n"
     ]
    }
   ],
   "source": [
    "a = [82, 36, 24, 32, 18, 60, 78, 70, 58, 46]\n",
    "for i in a:\n",
    "    print(i)"
   ]
  },
  {
   "cell_type": "markdown",
   "id": "25029793",
   "metadata": {},
   "source": [
    "# While Loop"
   ]
  },
  {
   "cell_type": "code",
   "execution_count": 385,
   "id": "28d3b5a6",
   "metadata": {},
   "outputs": [],
   "source": [
    "# this is used for the continues loop method untill the statement is false"
   ]
  },
  {
   "cell_type": "code",
   "execution_count": 401,
   "id": "9eb956e8",
   "metadata": {},
   "outputs": [
    {
     "name": "stdout",
     "output_type": "stream",
     "text": [
      "50\n",
      "48\n",
      "46\n",
      "44\n",
      "42\n",
      "40\n",
      "38\n",
      "36\n",
      "34\n",
      "32\n",
      "30\n",
      "28\n",
      "26\n",
      "24\n",
      "22\n",
      "20\n",
      "18\n",
      "16\n",
      "14\n",
      "12\n",
      "10\n"
     ]
    }
   ],
   "source": [
    "i = 50\n",
    "while i>=10:\n",
    "    print(i)\n",
    "    i = i-2\n"
   ]
  },
  {
   "cell_type": "markdown",
   "id": "a7e57562",
   "metadata": {},
   "source": [
    "# Break Statement"
   ]
  },
  {
   "cell_type": "code",
   "execution_count": 403,
   "id": "a415e6a6",
   "metadata": {},
   "outputs": [
    {
     "name": "stdout",
     "output_type": "stream",
     "text": [
      "Enter a number: 9885553052\n",
      "9885553052\n",
      "Enter a number: 66552\n",
      "66552\n",
      "Enter a number: 6669983\n",
      "6669983\n",
      "Enter a number: -8\n"
     ]
    }
   ],
   "source": [
    "# to terminate Loop\n",
    "while True:\n",
    "    num = int(input(\"Enter a number: \"))\n",
    "    if num <0:\n",
    "        break\n",
    "    print(num)"
   ]
  },
  {
   "cell_type": "markdown",
   "id": "1c9ac105",
   "metadata": {},
   "source": [
    "# Continue Statement"
   ]
  },
  {
   "cell_type": "code",
   "execution_count": 404,
   "id": "8e33e40f",
   "metadata": {},
   "outputs": [
    {
     "name": "stdout",
     "output_type": "stream",
     "text": [
      "1\n",
      "3\n",
      "4\n"
     ]
    }
   ],
   "source": [
    "for x in range(1,6):\n",
    "    if x == 2 or x ==5:\n",
    "        continue\n",
    "    print(x)"
   ]
  },
  {
   "cell_type": "markdown",
   "id": "10b9360b",
   "metadata": {},
   "source": [
    "# Pass Statment"
   ]
  },
  {
   "cell_type": "code",
   "execution_count": 408,
   "id": "f03206c3",
   "metadata": {},
   "outputs": [],
   "source": [
    "# basically if there are no statements to execute then we use pass\n",
    "def fun(x):\n",
    "    if x ==0:\n",
    "        pass\n",
    "    else:\n",
    "        print(\"i wil be done\")\n",
    "fun(0)"
   ]
  },
  {
   "cell_type": "markdown",
   "id": "23d08c58",
   "metadata": {},
   "source": [
    "# functions "
   ]
  },
  {
   "cell_type": "code",
   "execution_count": 409,
   "id": "a7d3d819",
   "metadata": {},
   "outputs": [],
   "source": [
    "# def is the keyword used to function"
   ]
  },
  {
   "cell_type": "code",
   "execution_count": 411,
   "id": "d20bf61a",
   "metadata": {},
   "outputs": [
    {
     "name": "stdout",
     "output_type": "stream",
     "text": [
      "Hello Good Morning!sudheer\n"
     ]
    }
   ],
   "source": [
    "def good(name):\n",
    "    print(\"Hello Good Morning!\"+ name)\n",
    "good(\"sudheer\")"
   ]
  },
  {
   "cell_type": "code",
   "execution_count": 413,
   "id": "9c8c15d2",
   "metadata": {},
   "outputs": [],
   "source": [
    "# Return Statement"
   ]
  },
  {
   "cell_type": "code",
   "execution_count": 415,
   "id": "f9f7e699",
   "metadata": {},
   "outputs": [
    {
     "name": "stdout",
     "output_type": "stream",
     "text": [
      "10\n"
     ]
    }
   ],
   "source": [
    "def fun():\n",
    "    return 10\n",
    "a = fun()\n",
    "print(a)"
   ]
  },
  {
   "cell_type": "markdown",
   "id": "5e5d5117",
   "metadata": {},
   "source": [
    "# File Handling Method"
   ]
  },
  {
   "cell_type": "code",
   "execution_count": 418,
   "id": "3ec25a25",
   "metadata": {},
   "outputs": [],
   "source": [
    "file1 = open(\"sample.txt\",\"w\")\n",
    "file1.write(\"Hello Sudheer!\\n\")\n",
    "file1.close()"
   ]
  },
  {
   "cell_type": "code",
   "execution_count": 425,
   "id": "b794841a",
   "metadata": {},
   "outputs": [
    {
     "name": "stdout",
     "output_type": "stream",
     "text": [
      "Hello Sudheer!\n",
      "\n"
     ]
    }
   ],
   "source": [
    "file2 = open(\"sample.txt\",\"r\")\n",
    "print(file2.read())\n",
    "file2.close()"
   ]
  },
  {
   "cell_type": "code",
   "execution_count": 426,
   "id": "f75bcebe",
   "metadata": {},
   "outputs": [],
   "source": [
    "# import os to remove the file\n",
    "import os"
   ]
  },
  {
   "cell_type": "code",
   "execution_count": 427,
   "id": "0e034d41",
   "metadata": {},
   "outputs": [
    {
     "ename": "PermissionError",
     "evalue": "[WinError 32] The process cannot access the file because it is being used by another process: 'sample.txt'",
     "output_type": "error",
     "traceback": [
      "\u001b[1;31m---------------------------------------------------------------------------\u001b[0m",
      "\u001b[1;31mPermissionError\u001b[0m                           Traceback (most recent call last)",
      "Cell \u001b[1;32mIn[427], line 1\u001b[0m\n\u001b[1;32m----> 1\u001b[0m os\u001b[38;5;241m.\u001b[39mremove(\u001b[38;5;124m\"\u001b[39m\u001b[38;5;124msample.txt\u001b[39m\u001b[38;5;124m\"\u001b[39m)\n",
      "\u001b[1;31mPermissionError\u001b[0m: [WinError 32] The process cannot access the file because it is being used by another process: 'sample.txt'"
     ]
    }
   ],
   "source": [
    "os.remove(\"sample.txt\")"
   ]
  },
  {
   "cell_type": "markdown",
   "id": "48083023",
   "metadata": {},
   "source": [
    "# Class "
   ]
  },
  {
   "cell_type": "code",
   "execution_count": null,
   "id": "94d5770b",
   "metadata": {},
   "outputs": [],
   "source": []
  }
 ],
 "metadata": {
  "kernelspec": {
   "display_name": "Python 3 (ipykernel)",
   "language": "python",
   "name": "python3"
  },
  "language_info": {
   "codemirror_mode": {
    "name": "ipython",
    "version": 3
   },
   "file_extension": ".py",
   "mimetype": "text/x-python",
   "name": "python",
   "nbconvert_exporter": "python",
   "pygments_lexer": "ipython3",
   "version": "3.11.3"
  }
 },
 "nbformat": 4,
 "nbformat_minor": 5
}
